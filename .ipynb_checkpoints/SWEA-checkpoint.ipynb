{
 "cells": [
  {
   "cell_type": "markdown",
   "metadata": {},
   "source": [
    "## 1859. 백만 장자 프로젝트 D2\n"
   ]
  },
  {
   "cell_type": "code",
   "execution_count": 13,
   "metadata": {},
   "outputs": [
    {
     "name": "stdout",
     "output_type": "stream",
     "text": [
      "#1 4053\n",
      "#2 6385\n",
      "#3 26725\n",
      "#4 211514\n",
      "#5 4848198\n",
      "#6 49761546\n",
      "#7 500155606\n",
      "#8 4995241394\n",
      "#9 4999367498\n",
      "#10 4995633799\n"
     ]
    }
   ],
   "source": [
    "\n",
    "import sys\n",
    "sys.stdin = open(\"input.txt\", \"r\")\n",
    "\n",
    "testcase = int(sys.stdin.readline())\n",
    "\n",
    "for t in range(1,testcase+1):\n",
    "    print(f'#{t}', end=' ')\n",
    "    n = int(sys.stdin.readline())\n",
    "    L = list(map(int, sys.stdin.readline().split()))\n",
    "  \n",
    "    done = True\n",
    "    result = 0\n",
    "    while done:\n",
    "        id_max = 0\n",
    "        max_value = 0\n",
    "        for i in range(len(L)):    \n",
    "              if max_value < L[i]:\n",
    "                    max_value = L[i]\n",
    "                    id_max = i\n",
    "        result += len(L[0:id_max]) * L[id_max]  - sum(L[0:id_max])\n",
    "    # print(result)\n",
    "        L = L[id_max + 1:]\n",
    "        if len(L) == 0:\n",
    "              done = False\n",
    "    print(result)"
   ]
  },
  {
   "cell_type": "code",
   "execution_count": 15,
   "metadata": {},
   "outputs": [
    {
     "name": "stdout",
     "output_type": "stream",
     "text": [
      "1\n",
      "#1 1\n",
      "10\n",
      "0\n"
     ]
    }
   ],
   "source": [
    "testcase = int(input())\n",
    "\n",
    "for t in range(1,testcase+1):\n",
    "    print(f'#{t}', end=' ')\n",
    "    n = int(input())\n",
    "    L = list(map(int, input().split()))\n",
    "  \n",
    "    done = True\n",
    "    result = 0\n",
    "    while done:\n",
    "        id_max = 0\n",
    "        max_value = 0\n",
    "        for i in range(len(L)):    \n",
    "              if max_value < L[i]:\n",
    "                    max_value = L[i]\n",
    "                    id_max = i\n",
    "        result += len(L[0:id_max]) * L[id_max]  - sum(L[0:id_max])\n",
    "    # print(result)\n",
    "        L = L[id_max + 1:]\n",
    "        if len(L) == 0:\n",
    "              done = False\n",
    "    print(result)"
   ]
  },
  {
   "cell_type": "markdown",
   "metadata": {},
   "source": [
    "## 1926. 간단한 369게임 D2\n",
    "\n"
   ]
  },
  {
   "cell_type": "code",
   "execution_count": 34,
   "metadata": {
    "scrolled": true
   },
   "outputs": [
    {
     "name": "stdout",
     "output_type": "stream",
     "text": [
      "100\n",
      "1 2 - 4 5 - 7 8 - 10 11 12 - 14 15 - 17 18 - 20 21 22 - 24 25 - 27 28 - - - - -- - - -- - - -- 40 41 42 - 44 45 - 47 48 - 50 51 52 - 54 55 - 57 58 - - - - -- - - -- - - -- 70 71 72 - 74 75 - 77 78 - 80 81 82 - 84 85 - 87 88 - - - - -- - - -- - - -- 100 "
     ]
    }
   ],
   "source": [
    "nums = int(input())\n",
    "\n",
    "result = []\n",
    "rule = ['3','6','9']\n",
    "for num in range(1, nums+1):\n",
    "    clap = ''\n",
    "    for n in str(num):\n",
    "        if n in rule:\n",
    "            clap += '-'\n",
    "    if clap == '':\n",
    "        result.append(num)\n",
    "    else:\n",
    "        result.append(clap)\n",
    "    \n",
    "for r in result:\n",
    "    print(r, end=' ')"
   ]
  },
  {
   "cell_type": "markdown",
   "metadata": {},
   "source": [
    "## Base64 Decoder D2"
   ]
  },
  {
   "cell_type": "code",
   "execution_count": 80,
   "metadata": {
    "scrolled": true
   },
   "outputs": [
    {
     "name": "stdout",
     "output_type": "stream",
     "text": [
      "1\n",
      "#1 TGlmZSBpdHNlbGYgaXMgYSBxdW90YXRpb24u\n",
      "01001100\n",
      "01100101\n",
      "01110100\n",
      "01101100\n",
      "01101001\n",
      "01100001\n",
      "01110101\n",
      "01100001\n",
      "01101111\n"
     ]
    }
   ],
   "source": [
    "chars = 'ABCDEFGHIJKLMNOPQRSTUVWXYZabcdefghijklmnopqrstuvwxyz0123456789+/'\n",
    "dic = {}\n",
    "for v,c in enumerate(chars):\n",
    "    dic[c] = v\n",
    "\n",
    "testcase = int(input())\n",
    "\n",
    "for t in range(1,testcase+1):\n",
    "    print(f'#{t}', end=' ')\n",
    "    code = input()\n",
    "    \n",
    "    for n in range(0, len(code), 4):\n",
    "        buffer = ''\n",
    "        for c in code[n:n+4]:\n",
    "            num10 = dic[c]\n",
    "            num2 = format(num10, 'b')            \n",
    "            num2 = '0'*(6-len(num2)) + num2\n",
    "            buffer += num2\n",
    "        \n",
    "        buffer[0:8].format(60)\n",
    "        buffer[8:16].format(60)\n",
    "        buffer[16:24].format(60)\n",
    "\n",
    "    "
   ]
  },
  {
   "cell_type": "code",
   "execution_count": null,
   "metadata": {},
   "outputs": [],
   "source": [
    "Lif\n",
    "11 34 5\n",
    "00001011 00100010 00000101\n",
    "000010 110010 001000 000101\n",
    "\n",
    "01001100 01101001 01100110\n",
    "010011 000110 100101 100110\n",
    "\n",
    "19 6 37 38\n",
    "TGlm"
   ]
  },
  {
   "cell_type": "markdown",
   "metadata": {},
   "source": [
    "## 1940. 가랏! RC카! D2"
   ]
  },
  {
   "cell_type": "code",
   "execution_count": 44,
   "metadata": {},
   "outputs": [
    {
     "name": "stdout",
     "output_type": "stream",
     "text": [
      "1\n",
      "#1 2\n",
      "1 2\n",
      "2 1\n",
      "3\n"
     ]
    }
   ],
   "source": [
    "testcase = int(input())\n",
    "\n",
    "for t in range(1,testcase+1):\n",
    "    print(f'#{t}', end=' ')\n",
    "    com_num = int(input())\n",
    "    commands = []\n",
    "    for _ in range(com_num):\n",
    "        command = list(map(int,input().split()))\n",
    "        commands.append(command)\n",
    "    speed = 0\n",
    "    dist = []\n",
    "    for command in commands:\n",
    "        if command[0] == 0:\n",
    "            dist.append(speed)\n",
    "        elif command[0] == 1:\n",
    "            speed += command[1]\n",
    "            dist.append(speed)\n",
    "        elif command[0] == 2:\n",
    "            if speed < command[1]:\n",
    "                speed = 0\n",
    "            else:\n",
    "                speed -= command[1]\n",
    "            dist.append(speed)\n",
    "    print(sum(dist))"
   ]
  },
  {
   "cell_type": "markdown",
   "metadata": {},
   "source": [
    "## 1945. 간단한 소인수분해 D2\n",
    "\n"
   ]
  },
  {
   "cell_type": "code",
   "execution_count": 51,
   "metadata": {},
   "outputs": [
    {
     "name": "stdout",
     "output_type": "stream",
     "text": [
      "2\n",
      "#1 6791400\n",
      "3 2 2 3 1 \n",
      "#2 6791400\n",
      "3 2 2 3 1 \n"
     ]
    }
   ],
   "source": [
    "testcase = int(input())\n",
    "\n",
    "for t in range(1,testcase+1):\n",
    "    print(f'#{t}', end=' ')\n",
    "    N = int(input())\n",
    "    \n",
    "    small =[2, 3, 5, 7, 11]\n",
    "    stack = []\n",
    "    while N != 1:\n",
    "        for s in small:\n",
    "            if N % s == 0:\n",
    "                stack.append(s)\n",
    "                N = N//s\n",
    "            else:\n",
    "                pass\n",
    "    count = {}\n",
    "    for n in small:\n",
    "        count[n] = stack.count(n)\n",
    "    for v in count.values():\n",
    "        print(v, end=' ')\n",
    "    print()"
   ]
  },
  {
   "cell_type": "code",
   "execution_count": null,
   "metadata": {},
   "outputs": [],
   "source": []
  }
 ],
 "metadata": {
  "kernelspec": {
   "display_name": "Python 3",
   "language": "python",
   "name": "python3"
  },
  "language_info": {
   "codemirror_mode": {
    "name": "ipython",
    "version": 3
   },
   "file_extension": ".py",
   "mimetype": "text/x-python",
   "name": "python",
   "nbconvert_exporter": "python",
   "pygments_lexer": "ipython3",
   "version": "3.7.7"
  }
 },
 "nbformat": 4,
 "nbformat_minor": 4
}
